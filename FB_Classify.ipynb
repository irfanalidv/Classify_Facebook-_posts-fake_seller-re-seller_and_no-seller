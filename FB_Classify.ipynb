{
 "cells": [
  {
   "cell_type": "code",
   "execution_count": 1,
   "metadata": {
    "collapsed": false
   },
   "outputs": [],
   "source": [
    "##Loading all the required libraries\n",
    "import pandas as pd\n",
    "import numpy as np\n",
    "\n",
    "from sklearn.naive_bayes import MultinomialNB,GaussianNB\n",
    "from sklearn.feature_extraction.text import CountVectorizer\n",
    "from sklearn.svm import SVC\n",
    "from sklearn.linear_model import LogisticRegression\n",
    "from sklearn.ensemble import RandomForestClassifier\n",
    "from sklearn.ensemble import AdaBoostClassifier\n",
    "\n",
    "from sklearn.model_selection import train_test_split\n",
    "from sklearn.metrics import accuracy_score\n",
    "\n",
    "import time\n",
    "\n",
    "from nltk.corpus import stopwords\n",
    "from nltk.tokenize import word_tokenize\n",
    "from nltk.stem.lancaster import LancasterStemmer\n",
    "stem = LancasterStemmer()\n",
    "\n",
    "#library for regular expretion\n",
    "import re\n",
    "\n",
    "import warnings\n",
    "warnings.simplefilter(action='ignore', category=FutureWarning)"
   ]
  },
  {
   "cell_type": "code",
   "execution_count": 2,
   "metadata": {
    "collapsed": true
   },
   "outputs": [],
   "source": [
    "Fb_Data1=pd.read_csv(\"FB_User_Classification.csv\", delimiter=\"\\t\")"
   ]
  },
  {
   "cell_type": "code",
   "execution_count": 3,
   "metadata": {
    "collapsed": false
   },
   "outputs": [
    {
     "name": "stderr",
     "output_type": "stream",
     "text": [
      "/home/irfanalidv/anaconda2/envs/py35/lib/python3.5/site-packages/pandas/core/generic.py:3554: SettingWithCopyWarning: \n",
      "A value is trying to be set on a copy of a slice from a DataFrame\n",
      "\n",
      "See the caveats in the documentation: http://pandas.pydata.org/pandas-docs/stable/indexing.html#indexing-view-versus-copy\n",
      "  self._update_inplace(new_data)\n",
      "/home/irfanalidv/anaconda2/envs/py35/lib/python3.5/site-packages/ipykernel/__main__.py:4: SettingWithCopyWarning: \n",
      "A value is trying to be set on a copy of a slice from a DataFrame\n",
      "\n",
      "See the caveats in the documentation: http://pandas.pydata.org/pandas-docs/stable/indexing.html#indexing-view-versus-copy\n",
      "/home/irfanalidv/anaconda2/envs/py35/lib/python3.5/site-packages/ipykernel/__main__.py:6: SettingWithCopyWarning: \n",
      "A value is trying to be set on a copy of a slice from a DataFrame\n",
      "\n",
      "See the caveats in the documentation: http://pandas.pydata.org/pandas-docs/stable/indexing.html#indexing-view-versus-copy\n"
     ]
    },
    {
     "data": {
      "text/html": [
       "<div>\n",
       "<table border=\"1\" class=\"dataframe\">\n",
       "  <thead>\n",
       "    <tr style=\"text-align: right;\">\n",
       "      <th></th>\n",
       "      <th>description</th>\n",
       "      <th>CATEGORY</th>\n",
       "    </tr>\n",
       "  </thead>\n",
       "  <tbody>\n",
       "    <tr>\n",
       "      <th>0</th>\n",
       "      <td>An Alladin's cave of beautiful designer brands...</td>\n",
       "      <td>No Seller</td>\n",
       "    </tr>\n",
       "    <tr>\n",
       "      <th>1</th>\n",
       "      <td>Everyone - let me take a minute to clarify som...</td>\n",
       "      <td>No Seller</td>\n",
       "    </tr>\n",
       "    <tr>\n",
       "      <th>2</th>\n",
       "      <td>CHANEL QUILTED BACKPACK SMALL 23X26CM MQH WITH...</td>\n",
       "      <td>Fake Seller</td>\n",
       "    </tr>\n",
       "    <tr>\n",
       "      <th>4</th>\n",
       "      <td>Longchamp Zip Around Wallet PM / Whatsapp 012-...</td>\n",
       "      <td>Reseller</td>\n",
       "    </tr>\n",
       "    <tr>\n",
       "      <th>5</th>\n",
       "      <td>Pre order Longchamp neo new color Pm for more ...</td>\n",
       "      <td>Reseller</td>\n",
       "    </tr>\n",
       "  </tbody>\n",
       "</table>\n",
       "</div>"
      ],
      "text/plain": [
       "                                         description     CATEGORY\n",
       "0  An Alladin's cave of beautiful designer brands...    No Seller\n",
       "1  Everyone - let me take a minute to clarify som...    No Seller\n",
       "2  CHANEL QUILTED BACKPACK SMALL 23X26CM MQH WITH...  Fake Seller\n",
       "4  Longchamp Zip Around Wallet PM / Whatsapp 012-...     Reseller\n",
       "5  Pre order Longchamp neo new color Pm for more ...     Reseller"
      ]
     },
     "execution_count": 3,
     "metadata": {},
     "output_type": "execute_result"
    }
   ],
   "source": [
    "df=Fb_Data1[['description', 'INDEX New']]\n",
    "df.columns=['description', 'CATEGORY']\n",
    "df['description'].replace('', np.nan, inplace=True)\n",
    "df.dropna(subset=['description'], inplace=True)\n",
    "df['CATEGORY'].replace('NaN', np.nan, inplace=True)\n",
    "df.dropna(subset=['CATEGORY'], inplace=True)\n",
    "df.head()\n"
   ]
  },
  {
   "cell_type": "code",
   "execution_count": 4,
   "metadata": {
    "collapsed": false
   },
   "outputs": [],
   "source": [
    "# function to clean data\n",
    "#without cleaning the accuracy is more\n",
    "#try without once\n",
    "stops = set(stopwords.words(\"english\")) #Removing stop words\n",
    "def cleanData(text, lowercase = False, remove_stops = False, stemming = False):\n",
    "    txt = str(text)\n",
    "    txt = re.sub(r'[^A-Za-z\\s]',r'',txt)\n",
    "    #Removing non-alpha numeric characters\n",
    "    txt = re.sub(r'\\n',r' ',txt)    \n",
    "    if lowercase:\n",
    "        txt = \" \".join([w.lower() for w in txt.split()])\n",
    "        \n",
    "    if remove_stops:\n",
    "        txt = \" \".join([w for w in txt.split() if w not in stops])\n",
    "    \n",
    "    if stemming:\n",
    "        stemmer = LancasterStemmer()\n",
    "        txt = \" \".join([stemmer.stem(w) for w in txt.split()])\n",
    "\n",
    "    return txt\n"
   ]
  },
  {
   "cell_type": "code",
   "execution_count": 5,
   "metadata": {
    "collapsed": false
   },
   "outputs": [],
   "source": [
    "df['description'] = df['description'].map(lambda x: cleanData(x, lowercase=True, remove_stops=True, stemming=True))"
   ]
  },
  {
   "cell_type": "code",
   "execution_count": 6,
   "metadata": {
    "collapsed": false
   },
   "outputs": [
    {
     "data": {
      "text/plain": [
       "0        An Alladin's cave of beautiful designer brands...\n",
       "1        Everyone - let me take a minute to clarify som...\n",
       "2        CHANEL QUILTED BACKPACK SMALL 23X26CM MQH WITH...\n",
       "4        Longchamp Zip Around Wallet PM / Whatsapp 012-...\n",
       "5        Pre order Longchamp neo new color Pm for more ...\n",
       "6        ONHAND Longchamp Neo with strap Complete with ...\n",
       "7        Practice!  aba! Go kuya, susuportahan kita pra...\n",
       "8        UP FOR SWAPS/ TRADE-INS CHANEL Classic Reissue...\n",
       "9        A CHI INDOVINERA' PER PRIMA/O IL NOME DI QUEST...\n",
       "10       เพลงอมตะของค่าย Motown ร้องโดย โซอี เดสชาแนล ใ...\n",
       "11       เพลงอมตะของค่าย Motown ร้องโดย โซอี เดสชาแนล ใ...\n",
       "12       พร้อมส่งจ้า ราคา 650 บาท ส่งฟรี Ems จ้า สอบถาม...\n",
       "13       Call/WhatsApp 0702216411 For your orders Deliv...\n",
       "14       Call/WhatsApp 0702216411 For your orders Deliv...\n",
       "15       Wenn es morgens im Bad mal wieder schell gehen...\n",
       "16       Wenn es morgens im Bad mal wieder schell gehen...\n",
       "17                                    Some FUN updates!!!!\n",
       "18       AUTHENTIC GUCCI BAG. Condiciones 9.5/10 email ...\n",
       "19       Turnabout South Surrey | This Vintage Chanel o...\n",
       "22       I just discovered this while shopping on Poshm...\n",
       "23       ricardo nir and richard said pat from africa b...\n",
       "24       Brand : Chanel shoes (top grade) Contact : 017...\n",
       "25       Brand : Chanel shoes (top grade) Contact : 017...\n",
       "26                                                        \n",
       "27                                   high end CHANEL shoes\n",
       "28       *Email me to order any pieces you cannot find ...\n",
       "30       Brand : Chanel shoes (top grade) Contact : 017...\n",
       "31       Chanel £25 ovno Seat belt £5 Burberry £5 Blue ...\n",
       "32       Hey my loves.. I'm so excited to share by very...\n",
       "33       Chanel Flats Shoes For Women & Ladies, 1 To 1 ...\n",
       "                               ...                        \n",
       "35148    This is one of my favorite planners!  If you s...\n",
       "35149    Overconsumption + fast fashion is killing the ...\n",
       "35150                       Buy: Not Chanel Cross Body Bag\n",
       "35151                       Buy: Not Chanel Cross Body Bag\n",
       "35152                                                     \n",
       "35153    Facebook Fam! It's Friday! I wanted to share a...\n",
       "35156    and , just saying... Right, ?  Yep. It's just ...\n",
       "35158    How Knock off Chanel Bag transformed my life.....\n",
       "35159    How Knock off Chanel Bag transformed my life.....\n",
       "35160    A friend of mine lost a friend in this Orlando...\n",
       "35161    So Ladies ... It's that time Of year !!! Pre-S...\n",
       "35162    A client told me that while she was walking ho...\n",
       "35163    It's international women's day. I am seeing fa...\n",
       "35164                              I just want to be loved\n",
       "35166                            Chanel Bag Shirt Small-XL\n",
       "35167    He overcame homelessness and jail, and now own...\n",
       "35168                  i need everything from this site.  \n",
       "35169                       First time getting nails done!\n",
       "35170    i got the baddest ladies they rock Louis Vuitt...\n",
       "35171    Last day of school photo shoot!! Modeling her ...\n",
       "35172    Met Gala Favorites: Blake Livey looked like a ...\n",
       "35173    GO SHOP ONLINE!  Holiday season is upon us! La...\n",
       "35174    GO SHOP ONLINE!  Holiday season is upon us! La...\n",
       "35175    Yesterday I watched in horror & fear while \"ER...\n",
       "35176    When you see the latest \"celebrity\" in Cuba yo...\n",
       "35177    Recognizing national, local, and social entrep...\n",
       "35178    Finally got a larger size storage unit!! These...\n",
       "35179    Congrats to the amazing and talented as she la...\n",
       "35180                   Drinking Coconut Milk is Healthy! \n",
       "35181    Lipstick, what a modern man should carry with ...\n",
       "Name: description, dtype: object"
      ]
     },
     "execution_count": 6,
     "metadata": {},
     "output_type": "execute_result"
    }
   ],
   "source": [
    "df['description']"
   ]
  },
  {
   "cell_type": "code",
   "execution_count": 7,
   "metadata": {
    "collapsed": false
   },
   "outputs": [
    {
     "name": "stderr",
     "output_type": "stream",
     "text": [
      "/home/irfanalidv/anaconda2/envs/py35/lib/python3.5/site-packages/ipykernel/__main__.py:2: SettingWithCopyWarning: \n",
      "A value is trying to be set on a copy of a slice from a DataFrame.\n",
      "Try using .loc[row_indexer,col_indexer] = value instead\n",
      "\n",
      "See the caveats in the documentation: http://pandas.pydata.org/pandas-docs/stable/indexing.html#indexing-view-versus-copy\n",
      "  from ipykernel import kernelapp as app\n"
     ]
    }
   ],
   "source": [
    "#converting category column into numeric target NUM_CATEGORY column\n",
    "df['NUM_CATEGORY']=df.CATEGORY.map({'No Seller':0,'Reseller':1,'Fake Seller':2})"
   ]
  },
  {
   "cell_type": "code",
   "execution_count": 8,
   "metadata": {
    "collapsed": false
   },
   "outputs": [],
   "source": [
    "#df.drop('CATEGORY', axis=1)"
   ]
  },
  {
   "cell_type": "code",
   "execution_count": 9,
   "metadata": {
    "collapsed": false
   },
   "outputs": [],
   "source": [
    "#used in model 1,2\n",
    "x=df['description']\n",
    "y=df['NUM_CATEGORY']\n",
    "\n",
    "x_train, x_test, y_train, y_test = train_test_split(x, y, train_size=.85)\n",
    "\n",
    "vect =CountVectorizer(ngram_range=(2,2))\n",
    "#converting features into numeric vector\n",
    "X_train = vect.fit_transform(x_train)\n",
    "#converting target into numeric vector\n",
    "X_test = vect.transform(x_test)\n"
   ]
  },
  {
   "cell_type": "code",
   "execution_count": 10,
   "metadata": {
    "collapsed": false
   },
   "outputs": [
    {
     "data": {
      "text/plain": [
       "0.84975767366720512"
      ]
     },
     "execution_count": 10,
     "metadata": {},
     "output_type": "execute_result"
    }
   ],
   "source": [
    "#Training and Predicting the data\n",
    "\n",
    "mnb = MultinomialNB(alpha=0.2)\n",
    "mnb.fit(X_train,y_train)\n",
    "result= mnb.predict(X_test)\n",
    "\n",
    "accuracy_score(result,y_test)"
   ]
  },
  {
   "cell_type": "code",
   "execution_count": 11,
   "metadata": {
    "collapsed": false
   },
   "outputs": [
    {
     "data": {
      "text/plain": [
       "0.83083314101084704"
      ]
     },
     "execution_count": 11,
     "metadata": {},
     "output_type": "execute_result"
    }
   ],
   "source": [
    "svc = SVC(kernel = 'linear')\n",
    "svc.fit(X_train,y_train)\n",
    "result_svc= svc.predict(X_test)\n",
    "\n",
    "accuracy_score(result_svc,y_test)"
   ]
  }
 ],
 "metadata": {
  "kernelspec": {
   "display_name": "Python 2",
   "language": "python",
   "name": "python2"
  },
  "language_info": {
   "codemirror_mode": {
    "name": "ipython",
    "version": 2
   },
   "file_extension": ".py",
   "mimetype": "text/x-python",
   "name": "python",
   "nbconvert_exporter": "python",
   "pygments_lexer": "ipython2",
   "version": "2.7.11"
  }
 },
 "nbformat": 4,
 "nbformat_minor": 2
}
