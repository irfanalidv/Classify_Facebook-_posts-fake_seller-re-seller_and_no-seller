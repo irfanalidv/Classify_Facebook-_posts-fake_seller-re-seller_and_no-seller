{
 "cells": [
  {
   "cell_type": "code",
   "execution_count": 38,
   "metadata": {
    "collapsed": true
   },
   "outputs": [],
   "source": [
    "##Loading all the required libraries\n",
    "import pandas as pd\n",
    "import numpy as np\n",
    "\n",
    "from sklearn.naive_bayes import MultinomialNB,GaussianNB\n",
    "\n",
    "from sklearn.feature_extraction.text import CountVectorizer\n",
    "from sklearn.model_selection import train_test_split\n",
    "\n",
    "from sklearn.metrics import accuracy_score\n",
    "import time\n",
    "\n",
    "#library for regular expretion\n",
    "import re\n"
   ]
  },
  {
   "cell_type": "code",
   "execution_count": 39,
   "metadata": {
    "collapsed": true
   },
   "outputs": [],
   "source": [
    "Fb_Data1=pd.read_csv(\"FB_User_Classification.csv\", delimiter=\"\\t\")"
   ]
  },
  {
   "cell_type": "code",
   "execution_count": 40,
   "metadata": {
    "collapsed": false
   },
   "outputs": [],
   "source": [
    "import pandas as pd\n",
    "import io\n",
    "df=Fb_Data1[['description', 'INDEX New']]\n"
   ]
  },
  {
   "cell_type": "code",
   "execution_count": 132,
   "metadata": {
    "collapsed": false
   },
   "outputs": [
    {
     "data": {
      "text/html": [
       "<div>\n",
       "<table border=\"1\" class=\"dataframe\">\n",
       "  <thead>\n",
       "    <tr style=\"text-align: right;\">\n",
       "      <th></th>\n",
       "      <th>description</th>\n",
       "      <th>INDEX New</th>\n",
       "    </tr>\n",
       "  </thead>\n",
       "  <tbody>\n",
       "    <tr>\n",
       "      <th>0</th>\n",
       "      <td>An Alladin's cave of beautiful designer brands...</td>\n",
       "      <td>No Seller</td>\n",
       "    </tr>\n",
       "    <tr>\n",
       "      <th>1</th>\n",
       "      <td>Everyone - let me take a minute to clarify som...</td>\n",
       "      <td>No Seller</td>\n",
       "    </tr>\n",
       "    <tr>\n",
       "      <th>2</th>\n",
       "      <td>CHANEL QUILTED BACKPACK SMALL 23X26CM MQH WITH...</td>\n",
       "      <td>Fake Seller</td>\n",
       "    </tr>\n",
       "    <tr>\n",
       "      <th>3</th>\n",
       "      <td>NaN</td>\n",
       "      <td>Reseller</td>\n",
       "    </tr>\n",
       "    <tr>\n",
       "      <th>4</th>\n",
       "      <td>Longchamp Zip Around Wallet PM / Whatsapp 012-...</td>\n",
       "      <td>Reseller</td>\n",
       "    </tr>\n",
       "  </tbody>\n",
       "</table>\n",
       "</div>"
      ],
      "text/plain": [
       "                                         description    INDEX New\n",
       "0  An Alladin's cave of beautiful designer brands...    No Seller\n",
       "1  Everyone - let me take a minute to clarify som...    No Seller\n",
       "2  CHANEL QUILTED BACKPACK SMALL 23X26CM MQH WITH...  Fake Seller\n",
       "3                                                NaN     Reseller\n",
       "4  Longchamp Zip Around Wallet PM / Whatsapp 012-...     Reseller"
      ]
     },
     "execution_count": 132,
     "metadata": {},
     "output_type": "execute_result"
    }
   ],
   "source": [
    "df.head()"
   ]
  },
  {
   "cell_type": "code",
   "execution_count": 41,
   "metadata": {
    "collapsed": false
   },
   "outputs": [
    {
     "name": "stderr",
     "output_type": "stream",
     "text": [
      "/home/irfanalidv/anaconda2/envs/py35/lib/python3.5/site-packages/pandas/core/generic.py:3554: SettingWithCopyWarning: \n",
      "A value is trying to be set on a copy of a slice from a DataFrame\n",
      "\n",
      "See the caveats in the documentation: http://pandas.pydata.org/pandas-docs/stable/indexing.html#indexing-view-versus-copy\n",
      "  self._update_inplace(new_data)\n"
     ]
    },
    {
     "data": {
      "text/html": [
       "<div>\n",
       "<table border=\"1\" class=\"dataframe\">\n",
       "  <thead>\n",
       "    <tr style=\"text-align: right;\">\n",
       "      <th></th>\n",
       "      <th>description</th>\n",
       "      <th>INDEX New</th>\n",
       "    </tr>\n",
       "  </thead>\n",
       "  <tbody>\n",
       "    <tr>\n",
       "      <th>0</th>\n",
       "      <td>An Alladin's cave of beautiful designer brands...</td>\n",
       "      <td>No Seller</td>\n",
       "    </tr>\n",
       "    <tr>\n",
       "      <th>1</th>\n",
       "      <td>Everyone - let me take a minute to clarify som...</td>\n",
       "      <td>No Seller</td>\n",
       "    </tr>\n",
       "    <tr>\n",
       "      <th>2</th>\n",
       "      <td>CHANEL QUILTED BACKPACK SMALL 23X26CM MQH WITH...</td>\n",
       "      <td>Fake Seller</td>\n",
       "    </tr>\n",
       "    <tr>\n",
       "      <th>3</th>\n",
       "      <td>NaN</td>\n",
       "      <td>Reseller</td>\n",
       "    </tr>\n",
       "    <tr>\n",
       "      <th>4</th>\n",
       "      <td>Longchamp Zip Around Wallet PM / Whatsapp 012-...</td>\n",
       "      <td>Reseller</td>\n",
       "    </tr>\n",
       "  </tbody>\n",
       "</table>\n",
       "</div>"
      ],
      "text/plain": [
       "                                         description    INDEX New\n",
       "0  An Alladin's cave of beautiful designer brands...    No Seller\n",
       "1  Everyone - let me take a minute to clarify som...    No Seller\n",
       "2  CHANEL QUILTED BACKPACK SMALL 23X26CM MQH WITH...  Fake Seller\n",
       "3                                                NaN     Reseller\n",
       "4  Longchamp Zip Around Wallet PM / Whatsapp 012-...     Reseller"
      ]
     },
     "execution_count": 41,
     "metadata": {},
     "output_type": "execute_result"
    }
   ],
   "source": [
    "df['description'].replace('', np.nan, inplace=True)\n",
    "df.head()"
   ]
  },
  {
   "cell_type": "code",
   "execution_count": 42,
   "metadata": {
    "collapsed": false
   },
   "outputs": [
    {
     "name": "stderr",
     "output_type": "stream",
     "text": [
      "/home/irfanalidv/anaconda2/envs/py35/lib/python3.5/site-packages/ipykernel/__main__.py:1: SettingWithCopyWarning: \n",
      "A value is trying to be set on a copy of a slice from a DataFrame\n",
      "\n",
      "See the caveats in the documentation: http://pandas.pydata.org/pandas-docs/stable/indexing.html#indexing-view-versus-copy\n",
      "  if __name__ == '__main__':\n"
     ]
    },
    {
     "data": {
      "text/plain": [
       "28882"
      ]
     },
     "execution_count": 42,
     "metadata": {},
     "output_type": "execute_result"
    }
   ],
   "source": [
    "df.dropna(subset=['description'], inplace=True)\n",
    "len(df)"
   ]
  },
  {
   "cell_type": "code",
   "execution_count": 43,
   "metadata": {
    "collapsed": false
   },
   "outputs": [
    {
     "name": "stderr",
     "output_type": "stream",
     "text": [
      "/home/irfanalidv/anaconda2/envs/py35/lib/python3.5/site-packages/pandas/core/generic.py:3554: SettingWithCopyWarning: \n",
      "A value is trying to be set on a copy of a slice from a DataFrame\n",
      "\n",
      "See the caveats in the documentation: http://pandas.pydata.org/pandas-docs/stable/indexing.html#indexing-view-versus-copy\n",
      "  self._update_inplace(new_data)\n",
      "/home/irfanalidv/anaconda2/envs/py35/lib/python3.5/site-packages/ipykernel/__main__.py:2: SettingWithCopyWarning: \n",
      "A value is trying to be set on a copy of a slice from a DataFrame\n",
      "\n",
      "See the caveats in the documentation: http://pandas.pydata.org/pandas-docs/stable/indexing.html#indexing-view-versus-copy\n",
      "  from ipykernel import kernelapp as app\n"
     ]
    },
    {
     "data": {
      "text/plain": [
       "False"
      ]
     },
     "execution_count": 43,
     "metadata": {},
     "output_type": "execute_result"
    }
   ],
   "source": [
    "df['INDEX New'].replace('NaN', np.nan, inplace=True)\n",
    "df.dropna(subset=['INDEX New'], inplace=True)\n",
    "len(df)\n",
    "'NaN' in df['description']\n",
    "'NaN' in df['INDEX New']"
   ]
  },
  {
   "cell_type": "code",
   "execution_count": 143,
   "metadata": {
    "collapsed": false
   },
   "outputs": [
    {
     "data": {
      "text/html": [
       "<div>\n",
       "<table border=\"1\" class=\"dataframe\">\n",
       "  <thead>\n",
       "    <tr style=\"text-align: right;\">\n",
       "      <th></th>\n",
       "      <th></th>\n",
       "      <th>description</th>\n",
       "    </tr>\n",
       "    <tr>\n",
       "      <th>INDEX New</th>\n",
       "      <th></th>\n",
       "      <th></th>\n",
       "    </tr>\n",
       "  </thead>\n",
       "  <tbody>\n",
       "    <tr>\n",
       "      <th rowspan=\"4\" valign=\"top\">Fake Seller</th>\n",
       "      <th>count</th>\n",
       "      <td>8309</td>\n",
       "    </tr>\n",
       "    <tr>\n",
       "      <th>unique</th>\n",
       "      <td>5963</td>\n",
       "    </tr>\n",
       "    <tr>\n",
       "      <th>top</th>\n",
       "      <td>CHANEL TO ORDER PLZ WHATSAPP =+919896117505</td>\n",
       "    </tr>\n",
       "    <tr>\n",
       "      <th>freq</th>\n",
       "      <td>34</td>\n",
       "    </tr>\n",
       "    <tr>\n",
       "      <th rowspan=\"4\" valign=\"top\">No Seller</th>\n",
       "      <th>count</th>\n",
       "      <td>12885</td>\n",
       "    </tr>\n",
       "    <tr>\n",
       "      <th>unique</th>\n",
       "      <td>11102</td>\n",
       "    </tr>\n",
       "    <tr>\n",
       "      <th>top</th>\n",
       "      <td>#love    #fashion #style</td>\n",
       "    </tr>\n",
       "    <tr>\n",
       "      <th>freq</th>\n",
       "      <td>53</td>\n",
       "    </tr>\n",
       "    <tr>\n",
       "      <th rowspan=\"4\" valign=\"top\">Reseller</th>\n",
       "      <th>count</th>\n",
       "      <td>7688</td>\n",
       "    </tr>\n",
       "    <tr>\n",
       "      <th>unique</th>\n",
       "      <td>5956</td>\n",
       "    </tr>\n",
       "    <tr>\n",
       "      <th>top</th>\n",
       "      <td>ลดกระหน่ำล้างสต๊อคกว่า50%TOPSHOP,ZARA,MNG,F21,...</td>\n",
       "    </tr>\n",
       "    <tr>\n",
       "      <th>freq</th>\n",
       "      <td>33</td>\n",
       "    </tr>\n",
       "  </tbody>\n",
       "</table>\n",
       "</div>"
      ],
      "text/plain": [
       "                                                          description\n",
       "INDEX New                                                            \n",
       "Fake Seller count                                                8309\n",
       "            unique                                               5963\n",
       "            top           CHANEL TO ORDER PLZ WHATSAPP =+919896117505\n",
       "            freq                                                   34\n",
       "No Seller   count                                               12885\n",
       "            unique                                              11102\n",
       "            top                          #love    #fashion #style    \n",
       "            freq                                                   53\n",
       "Reseller    count                                                7688\n",
       "            unique                                               5956\n",
       "            top     ลดกระหน่ำล้างสต๊อคกว่า50%TOPSHOP,ZARA,MNG,F21,...\n",
       "            freq                                                   33"
      ]
     },
     "execution_count": 143,
     "metadata": {},
     "output_type": "execute_result"
    }
   ],
   "source": [
    "df.groupby('INDEX New').describe()"
   ]
  },
  {
   "cell_type": "code",
   "execution_count": 145,
   "metadata": {
    "collapsed": false
   },
   "outputs": [
    {
     "data": {
      "text/plain": [
       "str"
      ]
     },
     "execution_count": 145,
     "metadata": {},
     "output_type": "execute_result"
    }
   ],
   "source": [
    "type(df['description'][0])"
   ]
  },
  {
   "cell_type": "code",
   "execution_count": 16,
   "metadata": {
    "collapsed": false
   },
   "outputs": [],
   "source": [
    "# function to clean data\n",
    "import time\n",
    "from nltk.corpus import stopwords\n",
    "from nltk.tokenize import word_tokenize\n",
    "from nltk.stem.lancaster import LancasterStemmer\n",
    "stem = LancasterStemmer()\n",
    "\n",
    "stops = set(stopwords.words(\"english\"))\n",
    "def cleanData(text, lowercase = False, remove_stops = False, stemming = False):\n",
    "    txt = str(text)\n",
    "    txt = re.sub(r'[^A-Za-z\\s]',r'',txt)\n",
    "    txt = re.sub(r'\\n',r' ',txt)\n",
    "    \n",
    "    if lowercase:\n",
    "        txt = \" \".join([w.lower() for w in txt.split()])\n",
    "        \n",
    "    if remove_stops:\n",
    "        txt = \" \".join([w for w in txt.split() if w not in stops])\n",
    "    \n",
    "    if stemming:\n",
    "        stemmer = LancasterStemmer()\n",
    "        txt = \" \".join([stemmer.stem(w) for w in txt.split()])\n",
    "\n",
    "    return txt\n"
   ]
  },
  {
   "cell_type": "code",
   "execution_count": 17,
   "metadata": {
    "collapsed": false
   },
   "outputs": [
    {
     "name": "stderr",
     "output_type": "stream",
     "text": [
      "/home/irfanalidv/anaconda2/envs/py35/lib/python3.5/site-packages/ipykernel/__main__.py:1: SettingWithCopyWarning: \n",
      "A value is trying to be set on a copy of a slice from a DataFrame.\n",
      "Try using .loc[row_indexer,col_indexer] = value instead\n",
      "\n",
      "See the caveats in the documentation: http://pandas.pydata.org/pandas-docs/stable/indexing.html#indexing-view-versus-copy\n",
      "  if __name__ == '__main__':\n"
     ]
    }
   ],
   "source": [
    "df['description'] = df['description'].map(lambda x: cleanData(x, lowercase=True, remove_stops=True, stemming=True))"
   ]
  },
  {
   "cell_type": "code",
   "execution_count": 18,
   "metadata": {
    "collapsed": false
   },
   "outputs": [
    {
     "data": {
      "text/plain": [
       "0        alladin cav beauty design brand includ pristin...\n",
       "1        everyon let tak minut clar some us hor story s...\n",
       "2                chanel quilt backpack smal xcm mqh box jt\n",
       "4                   longchamp zip around wallet pm whatsap\n",
       "5        pre ord longchamp neo new col pm detail inbox ...\n",
       "6        onhand longchamp neo strap complet car card pa...\n",
       "7        pract ab go kuy susuportah kit pra madevelopt ...\n",
       "8        swap tradein chanel class reissu max flap sery...\n",
       "9        chi indovin per primao il nom di quest bor dar...\n",
       "10                                                  motown\n",
       "11                                                  motown\n",
       "12       em lin cholizz lin adizzyshop lac perf minidre...\n",
       "13       callwhatsap ord delivery mad country wid fre w...\n",
       "14       callwhatsap ord delivery mad country wid fre w...\n",
       "15       wen es morg im bad mal wied schell geh muss ha...\n",
       "16       wen es morg im bad mal wied schell geh muss ha...\n",
       "17                                                 fun upd\n",
       "18       au gucc bag cond email infocherieluxuryconsign...\n",
       "19       turnabout sou surrey vint chanel heart go pit pat\n",
       "22       discov shop poshmark chanel inspir ear check t...\n",
       "23       ricardo nir richard said pat afr bum chum bet ...\n",
       "24       brand chanel sho top grad contact pls inbox in...\n",
       "25       brand chanel sho top grad contact pls inbox in...\n",
       "26                                                        \n",
       "27                                     high end chanel sho\n",
       "28       email ord piec cannot find sit hrhcollectiongm...\n",
       "30       brand chanel sho top grad contact pls inbox in...\n",
       "31       chanel ovno seat belt burberry blu sho x siz s...\n",
       "32       hey lov im excit shar first styl video guy che...\n",
       "33                  chanel flat sho wom lady qual repl sho\n",
       "                               ...                        \n",
       "35148           favorit plan stil lik pen pap plan perfect\n",
       "35149    overcons fast fash kil ear peopl think item lo...\n",
       "35150                            buy chanel cross body bag\n",
       "35151                            buy chanel cross body bag\n",
       "35152                                                     \n",
       "35153    facebook fam friday want shar ap iv obsess yo ...\n",
       "35156                           say right yep us money wis\n",
       "35158                 knock chanel bag transform lif think\n",
       "35159                 knock chanel bag transform lif think\n",
       "35160    friend min lost friend orlando tragedy mean mo...\n",
       "35161    lady tim year presel masc mad buy get fre ful ...\n",
       "35162    cli told walk hom night homeless man grab chan...\n",
       "35163    intern wom day see far much whin feminaz men d...\n",
       "35164                                             want lov\n",
       "35166                             chanel bag shirt smallxl\n",
       "35167                 overcam homeless jail three rest exc\n",
       "35168                                        nee every sit\n",
       "35169                                   first tim get nail\n",
       "35170    got baddest lady rock lou vuitton valentino sh...\n",
       "35171    last day school photo shoot model mock chanel bag\n",
       "35172    met gal favorit blak livey look lik goddess bu...\n",
       "35173    go shop onlin holiday season upon us lady lac ...\n",
       "35174    go shop onlin holiday season upon us lady lac ...\n",
       "35175    yesterday watch hor fear er doct rns attempt t...\n",
       "35176    see latest celebr cub shouldnt wist isnt theyr...\n",
       "35177    recogn nat loc soc entrepr put toge blu dan ch...\n",
       "35178    fin got larg siz stor unit thing hot chanel ba...\n",
       "35179    congr amaz tal launch superdup consid publ ser...\n",
       "35180                           drink coconut milk healthy\n",
       "35181        lipstick modern man carry tim kien kik chanel\n",
       "Name: description, dtype: object"
      ]
     },
     "execution_count": 18,
     "metadata": {},
     "output_type": "execute_result"
    }
   ],
   "source": [
    "df['description']"
   ]
  },
  {
   "cell_type": "code",
   "execution_count": 44,
   "metadata": {
    "collapsed": false
   },
   "outputs": [
    {
     "data": {
      "text/html": [
       "<div>\n",
       "<table border=\"1\" class=\"dataframe\">\n",
       "  <thead>\n",
       "    <tr style=\"text-align: right;\">\n",
       "      <th></th>\n",
       "      <th>description</th>\n",
       "      <th>CATEGORY</th>\n",
       "    </tr>\n",
       "  </thead>\n",
       "  <tbody>\n",
       "    <tr>\n",
       "      <th>0</th>\n",
       "      <td>An Alladin's cave of beautiful designer brands...</td>\n",
       "      <td>No Seller</td>\n",
       "    </tr>\n",
       "    <tr>\n",
       "      <th>1</th>\n",
       "      <td>Everyone - let me take a minute to clarify som...</td>\n",
       "      <td>No Seller</td>\n",
       "    </tr>\n",
       "    <tr>\n",
       "      <th>2</th>\n",
       "      <td>CHANEL QUILTED BACKPACK SMALL 23X26CM MQH WITH...</td>\n",
       "      <td>Fake Seller</td>\n",
       "    </tr>\n",
       "    <tr>\n",
       "      <th>4</th>\n",
       "      <td>Longchamp Zip Around Wallet PM / Whatsapp 012-...</td>\n",
       "      <td>Reseller</td>\n",
       "    </tr>\n",
       "    <tr>\n",
       "      <th>5</th>\n",
       "      <td>Pre order Longchamp neo new color Pm for more ...</td>\n",
       "      <td>Reseller</td>\n",
       "    </tr>\n",
       "  </tbody>\n",
       "</table>\n",
       "</div>"
      ],
      "text/plain": [
       "                                         description     CATEGORY\n",
       "0  An Alladin's cave of beautiful designer brands...    No Seller\n",
       "1  Everyone - let me take a minute to clarify som...    No Seller\n",
       "2  CHANEL QUILTED BACKPACK SMALL 23X26CM MQH WITH...  Fake Seller\n",
       "4  Longchamp Zip Around Wallet PM / Whatsapp 012-...     Reseller\n",
       "5  Pre order Longchamp neo new color Pm for more ...     Reseller"
      ]
     },
     "execution_count": 44,
     "metadata": {},
     "output_type": "execute_result"
    }
   ],
   "source": [
    "df.columns = ['description','CATEGORY']\n",
    "df.head()"
   ]
  },
  {
   "cell_type": "code",
   "execution_count": 46,
   "metadata": {
    "collapsed": false
   },
   "outputs": [
    {
     "name": "stderr",
     "output_type": "stream",
     "text": [
      "/home/irfanalidv/anaconda2/envs/py35/lib/python3.5/site-packages/ipykernel/__main__.py:2: SettingWithCopyWarning: \n",
      "A value is trying to be set on a copy of a slice from a DataFrame.\n",
      "Try using .loc[row_indexer,col_indexer] = value instead\n",
      "\n",
      "See the caveats in the documentation: http://pandas.pydata.org/pandas-docs/stable/indexing.html#indexing-view-versus-copy\n",
      "  from ipykernel import kernelapp as app\n"
     ]
    }
   ],
   "source": [
    "#converting category column into numeric target NUM_CATEGORY column\n",
    "df['NUM_CATEGORY']=df.CATEGORY.map({'No Seller':0,'Reseller':1,'Fake Seller':2})"
   ]
  },
  {
   "cell_type": "code",
   "execution_count": 56,
   "metadata": {
    "collapsed": false
   },
   "outputs": [],
   "source": [
    "#used in model 1,2\n",
    "x=df['description']\n",
    "y=df['NUM_CATEGORY']\n",
    "\n",
    "\n",
    "x_train, x_test, y_train, y_test = train_test_split(x, y,train_size=.85)\n",
    "\n",
    "vect =CountVectorizer(ngram_range=(2,2))\n",
    "#converting features into numeric vector\n",
    "X_train = vect.fit_transform(x_train)\n",
    "#converting target into numeric vector\n",
    "X_test = vect.transform(x_test)\n"
   ]
  },
  {
   "cell_type": "code",
   "execution_count": 59,
   "metadata": {
    "collapsed": true
   },
   "outputs": [],
   "source": [
    "#Training and Predicting the data\n",
    "\n",
    "#start = time.clock()\n",
    "\n",
    "mnb = MultinomialNB(alpha=0.2)\n",
    "\n",
    "mnb.fit(X_train,y_train)\n",
    "\n",
    "result= mnb.predict(X_test)\n",
    "\n",
    "#print (time.clock()-start)"
   ]
  },
  {
   "cell_type": "code",
   "execution_count": 60,
   "metadata": {
    "collapsed": false
   },
   "outputs": [
    {
     "data": {
      "text/plain": [
       "0.85275790445418875"
      ]
     },
     "execution_count": 60,
     "metadata": {},
     "output_type": "execute_result"
    }
   ],
   "source": [
    "accuracy_score(result,y_test)"
   ]
  }
 ],
 "metadata": {
  "kernelspec": {
   "display_name": "Python 3",
   "language": "python",
   "name": "python3"
  },
  "language_info": {
   "codemirror_mode": {
    "name": "ipython",
    "version": 3
   },
   "file_extension": ".py",
   "mimetype": "text/x-python",
   "name": "python",
   "nbconvert_exporter": "python",
   "pygments_lexer": "ipython3",
   "version": "3.5.3"
  }
 },
 "nbformat": 4,
 "nbformat_minor": 2
}
