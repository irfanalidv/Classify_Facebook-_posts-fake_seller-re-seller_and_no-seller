{
 "cells": [
  {
   "cell_type": "code",
   "execution_count": 1,
   "metadata": {
    "collapsed": false
   },
   "outputs": [],
   "source": [
    "##Loading all the required libraries\n",
    "import pandas as pd\n",
    "import numpy as np\n",
    "\n",
    "from sklearn.naive_bayes import MultinomialNB,GaussianNB\n",
    "from sklearn.feature_extraction.text import CountVectorizer\n",
    "from sklearn.feature_extraction.text import TfidfVectorizer\n",
    "\n",
    "from sklearn.svm import SVC\n",
    "from sklearn.linear_model import LogisticRegression\n",
    "from sklearn.ensemble import RandomForestClassifier\n",
    "from sklearn.ensemble import AdaBoostClassifier\n",
    "\n",
    "from sklearn.model_selection import train_test_split\n",
    "from sklearn.metrics import accuracy_score\n",
    "\n",
    "import time\n",
    "\n",
    "from nltk.corpus import stopwords\n",
    "from nltk.tokenize import word_tokenize\n",
    "from nltk.stem.lancaster import LancasterStemmer\n",
    "stem = LancasterStemmer()\n",
    "\n",
    "#library for regular expretion\n",
    "import re\n",
    "\n",
    "import warnings\n",
    "warnings.simplefilter(action='ignore', category=FutureWarning)"
   ]
  },
  {
   "cell_type": "code",
   "execution_count": 2,
   "metadata": {
    "collapsed": true
   },
   "outputs": [],
   "source": [
    "Fb_Data1=pd.read_csv(\"FB_User_Classification.csv\", delimiter=\"\\t\")"
   ]
  },
  {
   "cell_type": "code",
   "execution_count": 3,
   "metadata": {
    "collapsed": false
   },
   "outputs": [
    {
     "name": "stderr",
     "output_type": "stream",
     "text": [
      "/home/irfanalidv/anaconda2/envs/py35/lib/python3.5/site-packages/pandas/core/generic.py:3554: SettingWithCopyWarning: \n",
      "A value is trying to be set on a copy of a slice from a DataFrame\n",
      "\n",
      "See the caveats in the documentation: http://pandas.pydata.org/pandas-docs/stable/indexing.html#indexing-view-versus-copy\n",
      "  self._update_inplace(new_data)\n",
      "/home/irfanalidv/anaconda2/envs/py35/lib/python3.5/site-packages/ipykernel/__main__.py:4: SettingWithCopyWarning: \n",
      "A value is trying to be set on a copy of a slice from a DataFrame\n",
      "\n",
      "See the caveats in the documentation: http://pandas.pydata.org/pandas-docs/stable/indexing.html#indexing-view-versus-copy\n",
      "/home/irfanalidv/anaconda2/envs/py35/lib/python3.5/site-packages/ipykernel/__main__.py:6: SettingWithCopyWarning: \n",
      "A value is trying to be set on a copy of a slice from a DataFrame\n",
      "\n",
      "See the caveats in the documentation: http://pandas.pydata.org/pandas-docs/stable/indexing.html#indexing-view-versus-copy\n"
     ]
    },
    {
     "data": {
      "text/html": [
       "<div>\n",
       "<table border=\"1\" class=\"dataframe\">\n",
       "  <thead>\n",
       "    <tr style=\"text-align: right;\">\n",
       "      <th></th>\n",
       "      <th>description</th>\n",
       "      <th>CATEGORY</th>\n",
       "    </tr>\n",
       "  </thead>\n",
       "  <tbody>\n",
       "    <tr>\n",
       "      <th>0</th>\n",
       "      <td>An Alladin's cave of beautiful designer brands...</td>\n",
       "      <td>No Seller</td>\n",
       "    </tr>\n",
       "    <tr>\n",
       "      <th>1</th>\n",
       "      <td>Everyone - let me take a minute to clarify som...</td>\n",
       "      <td>No Seller</td>\n",
       "    </tr>\n",
       "    <tr>\n",
       "      <th>2</th>\n",
       "      <td>CHANEL QUILTED BACKPACK SMALL 23X26CM MQH WITH...</td>\n",
       "      <td>Fake Seller</td>\n",
       "    </tr>\n",
       "    <tr>\n",
       "      <th>4</th>\n",
       "      <td>Longchamp Zip Around Wallet PM / Whatsapp 012-...</td>\n",
       "      <td>Reseller</td>\n",
       "    </tr>\n",
       "    <tr>\n",
       "      <th>5</th>\n",
       "      <td>Pre order Longchamp neo new color Pm for more ...</td>\n",
       "      <td>Reseller</td>\n",
       "    </tr>\n",
       "  </tbody>\n",
       "</table>\n",
       "</div>"
      ],
      "text/plain": [
       "                                         description     CATEGORY\n",
       "0  An Alladin's cave of beautiful designer brands...    No Seller\n",
       "1  Everyone - let me take a minute to clarify som...    No Seller\n",
       "2  CHANEL QUILTED BACKPACK SMALL 23X26CM MQH WITH...  Fake Seller\n",
       "4  Longchamp Zip Around Wallet PM / Whatsapp 012-...     Reseller\n",
       "5  Pre order Longchamp neo new color Pm for more ...     Reseller"
      ]
     },
     "execution_count": 3,
     "metadata": {},
     "output_type": "execute_result"
    }
   ],
   "source": [
    "df=Fb_Data1[['description', 'INDEX New']]\n",
    "df.columns=['description', 'CATEGORY']\n",
    "df['description'].replace('', np.nan, inplace=True)\n",
    "df.dropna(subset=['description'], inplace=True)\n",
    "df['CATEGORY'].replace('NaN', np.nan, inplace=True)\n",
    "df.dropna(subset=['CATEGORY'], inplace=True)\n",
    "df.head()\n"
   ]
  },
  {
   "cell_type": "code",
   "execution_count": 4,
   "metadata": {
    "collapsed": false
   },
   "outputs": [],
   "source": [
    "# function to clean data\n",
    "#without cleaning the accuracy is more\n",
    "#try without once\n",
    "stops = set(stopwords.words(\"english\")) #Removing stop words\n",
    "def cleanData(text, lowercase = False, remove_stops = False, stemming = False):\n",
    "    txt = str(text)\n",
    "    txt = re.sub(r'[^A-Za-z\\s]',r'',txt)\n",
    "    #Removing non-alpha numeric characters\n",
    "    txt = re.sub(r'\\n',r' ',txt)    \n",
    "    if lowercase:\n",
    "        txt = \" \".join([w.lower() for w in txt.split()])\n",
    "        \n",
    "    if remove_stops:\n",
    "        txt = \" \".join([w for w in txt.split() if w not in stops])\n",
    "    \n",
    "    if stemming:\n",
    "        stemmer = LancasterStemmer()\n",
    "        txt = \" \".join([stemmer.stem(w) for w in txt.split()])\n",
    "\n",
    "    return txt\n"
   ]
  },
  {
   "cell_type": "code",
   "execution_count": 5,
   "metadata": {
    "collapsed": false
   },
   "outputs": [
    {
     "name": "stderr",
     "output_type": "stream",
     "text": [
      "/home/irfanalidv/anaconda2/envs/py35/lib/python3.5/site-packages/ipykernel/__main__.py:1: SettingWithCopyWarning: \n",
      "A value is trying to be set on a copy of a slice from a DataFrame.\n",
      "Try using .loc[row_indexer,col_indexer] = value instead\n",
      "\n",
      "See the caveats in the documentation: http://pandas.pydata.org/pandas-docs/stable/indexing.html#indexing-view-versus-copy\n",
      "  if __name__ == '__main__':\n"
     ]
    }
   ],
   "source": [
    "df['description'] = df['description'].map(lambda x: cleanData(x, lowercase=True, remove_stops=True, stemming=True))"
   ]
  },
  {
   "cell_type": "code",
   "execution_count": 6,
   "metadata": {
    "collapsed": false
   },
   "outputs": [
    {
     "data": {
      "text/plain": [
       "0        alladin cav beauty design brand includ pristin...\n",
       "1        everyon let tak minut clar someth us hor story...\n",
       "2                chanel quilt backpack smal xcm mqh box jt\n",
       "4                   longchamp zip around wallet pm whatsap\n",
       "5        pre ord longchamp neo new col pm detail inbox ...\n",
       "6        onhand longchamp neo strap complet car card pa...\n",
       "7        pract ab go kuy susuportah kit pra madevelopt ...\n",
       "8        swap tradein chanel class reissu max flap sery...\n",
       "9        chi indoviner per primao il nom di quest bors ...\n",
       "10                                                  motown\n",
       "11                                                  motown\n",
       "12       em lin cholizz lin adizzyshop lac perf minidre...\n",
       "13       callwhatsap ord delivery mad country wid fre w...\n",
       "14       callwhatsap ord delivery mad country wid fre w...\n",
       "15       wen es morg im bad mal wied schell geh muss ha...\n",
       "16       wen es morg im bad mal wied schell geh muss ha...\n",
       "17                                                 fun upd\n",
       "18       auth gucc bag cond email infocherieluxuryconsi...\n",
       "19       turnabout sou surrey vint chanel heart go pit pat\n",
       "22       discov shop poshmark chanel inspir ear check t...\n",
       "23       ricardo nir richard said pat afric bum chum be...\n",
       "24       brand chanel sho top grad contact pls inbox in...\n",
       "25       brand chanel sho top grad contact pls inbox in...\n",
       "26                                                        \n",
       "27                                     high end chanel sho\n",
       "28       email ord piec cannot find sit hrhcollectiongm...\n",
       "30       brand chanel sho top grad contact pls inbox in...\n",
       "31       chanel ovno seat belt burberry blu sho x siz s...\n",
       "32       hey lov im excit shar first styl video guy che...\n",
       "33                chanel flat sho wom lady qual replic sho\n",
       "                               ...                        \n",
       "35148     on favorit plan stil lik pen pap plan perfect on\n",
       "35149    overconsum fast fash kil ear peopl think don i...\n",
       "35150                            buy chanel cross body bag\n",
       "35151                            buy chanel cross body bag\n",
       "35152                                                     \n",
       "35153    facebook fam friday want shar ap iv obsess yo ...\n",
       "35156                           say right yep us money wis\n",
       "35158                 knock chanel bag transform lif think\n",
       "35159                 knock chanel bag transform lif think\n",
       "35160    friend min lost friend orlando tragedy mean mo...\n",
       "35161    lady tim year presel mascar mad buy get fre fu...\n",
       "35162    cli told walk hom on night homeless man grab c...\n",
       "35163    intern wom day see far much whin feminaz men d...\n",
       "35164                                             want lov\n",
       "35166                             chanel bag shirt smallxl\n",
       "35167          overcam homeless jail own three resta excus\n",
       "35168                                      nee everyth sit\n",
       "35169                               first tim get nail don\n",
       "35170    got baddest lady rock lou vuitton valentino sh...\n",
       "35171    last day school photo shoot model mock chanel bag\n",
       "35172    met gal favorit blak livey look lik goddess bu...\n",
       "35173    go shop onlin holiday season upon us lady lac ...\n",
       "35174    go shop onlin holiday season upon us lady lac ...\n",
       "35175    yesterday watch hor fear er doct rns attempt t...\n",
       "35176    see latest celebr cub shouldnt wist isnt out t...\n",
       "35177    recogn nat loc soc entrepr put togeth blu dan ...\n",
       "35178    fin got larg siz stor unit thing hot chanel ba...\n",
       "35179    congr amaz tal launch superdup consid publ ser...\n",
       "35180                           drink coconut milk healthy\n",
       "35181        lipstick modern man carry tim kien kik chanel\n",
       "Name: description, dtype: object"
      ]
     },
     "execution_count": 6,
     "metadata": {},
     "output_type": "execute_result"
    }
   ],
   "source": [
    "df['description']"
   ]
  },
  {
   "cell_type": "code",
   "execution_count": 7,
   "metadata": {
    "collapsed": false
   },
   "outputs": [
    {
     "name": "stderr",
     "output_type": "stream",
     "text": [
      "/home/irfanalidv/anaconda2/envs/py35/lib/python3.5/site-packages/ipykernel/__main__.py:2: SettingWithCopyWarning: \n",
      "A value is trying to be set on a copy of a slice from a DataFrame.\n",
      "Try using .loc[row_indexer,col_indexer] = value instead\n",
      "\n",
      "See the caveats in the documentation: http://pandas.pydata.org/pandas-docs/stable/indexing.html#indexing-view-versus-copy\n",
      "  from ipykernel import kernelapp as app\n"
     ]
    }
   ],
   "source": [
    "#converting category column into numeric target NUM_CATEGORY column\n",
    "df['NUM_CATEGORY']=df.CATEGORY.map({'No Seller':0,'Reseller':1,'Fake Seller':2})"
   ]
  },
  {
   "cell_type": "code",
   "execution_count": 8,
   "metadata": {
    "collapsed": false
   },
   "outputs": [],
   "source": [
    "#df.drop('CATEGORY', axis=1)"
   ]
  },
  {
   "cell_type": "code",
   "execution_count": 9,
   "metadata": {
    "collapsed": false
   },
   "outputs": [],
   "source": [
    "#used in model 1,2\n",
    "x=df['description']\n",
    "y=df['NUM_CATEGORY']\n",
    "\n",
    "x_train, x_test, y_train, y_test = train_test_split(x, y, train_size=.85)\n",
    "\n",
    "vect =CountVectorizer(ngram_range=(2,2))\n",
    "#converting features into numeric vector\n",
    "X_train = vect.fit_transform(x_train)\n",
    "#converting target into numeric vector\n",
    "X_test = vect.transform(x_test)\n"
   ]
  },
  {
   "cell_type": "code",
   "execution_count": 10,
   "metadata": {
    "collapsed": false
   },
   "outputs": [
    {
     "data": {
      "text/plain": [
       "0.83983383337179784"
      ]
     },
     "execution_count": 10,
     "metadata": {},
     "output_type": "execute_result"
    }
   ],
   "source": [
    "#Training and Predicting the data\n",
    "\n",
    "mnb = MultinomialNB(alpha=0.2)\n",
    "mnb.fit(X_train,y_train)\n",
    "result= mnb.predict(X_test)\n",
    "\n",
    "accuracy_score(result,y_test)"
   ]
  },
  {
   "cell_type": "code",
   "execution_count": 11,
   "metadata": {
    "collapsed": false
   },
   "outputs": [
    {
     "data": {
      "text/plain": [
       "0.82183244864989613"
      ]
     },
     "execution_count": 11,
     "metadata": {},
     "output_type": "execute_result"
    }
   ],
   "source": [
    "svc = SVC(kernel = 'linear')\n",
    "svc.fit(X_train,y_train)\n",
    "result_svc= svc.predict(X_test)\n",
    "\n",
    "accuracy_score(result_svc,y_test)"
   ]
  },
  {
   "cell_type": "code",
   "execution_count": 12,
   "metadata": {
    "collapsed": true
   },
   "outputs": [],
   "source": [
    "#https://en.wikipedia.org/wiki/Tf%E2%80%93idf\n",
    "tfidf_vect = TfidfVectorizer(ngram_range=(2,2))\n",
    "\n",
    "X_train1 = tfidf_vect.fit_transform(x_train)\n",
    "X_test1 = tfidf_vect.transform(x_test)"
   ]
  },
  {
   "cell_type": "code",
   "execution_count": 13,
   "metadata": {
    "collapsed": false
   },
   "outputs": [
    {
     "data": {
      "text/plain": [
       "LogisticRegression(C=1.0, class_weight=None, dual=False, fit_intercept=True,\n",
       "          intercept_scaling=1, max_iter=100, multi_class='ovr', n_jobs=1,\n",
       "          penalty='l2', random_state=None, solver='liblinear', tol=0.0001,\n",
       "          verbose=0, warm_start=False)"
      ]
     },
     "execution_count": 13,
     "metadata": {},
     "output_type": "execute_result"
    }
   ],
   "source": [
    "#Logistic Regression_tf_idf\n",
    "lr_tf_idf = LogisticRegression()\n",
    "lr_tf_idf.fit(X_train1, y_train)"
   ]
  },
  {
   "cell_type": "code",
   "execution_count": 14,
   "metadata": {
    "collapsed": false
   },
   "outputs": [
    {
     "data": {
      "text/plain": [
       "0.59912300946226638"
      ]
     },
     "execution_count": 14,
     "metadata": {},
     "output_type": "execute_result"
    }
   ],
   "source": [
    "y_pred_lr1 = lr_tf_idf.predict_proba(X_test1)[:, 1]\n",
    "#when_used_tf_idf\n",
    "accuracy_score(y_test,y_pred_lr1.round())"
   ]
  },
  {
   "cell_type": "code",
   "execution_count": 15,
   "metadata": {
    "collapsed": false
   },
   "outputs": [
    {
     "data": {
      "text/plain": [
       "LogisticRegression(C=1.0, class_weight=None, dual=False, fit_intercept=True,\n",
       "          intercept_scaling=1, max_iter=100, multi_class='ovr', n_jobs=1,\n",
       "          penalty='l2', random_state=None, solver='liblinear', tol=0.0001,\n",
       "          verbose=0, warm_start=False)"
      ]
     },
     "execution_count": 15,
     "metadata": {},
     "output_type": "execute_result"
    }
   ],
   "source": [
    "#Logistic Regression\n",
    "lr = LogisticRegression()\n",
    "lr.fit(X_train, y_train)"
   ]
  },
  {
   "cell_type": "code",
   "execution_count": 16,
   "metadata": {
    "collapsed": false
   },
   "outputs": [],
   "source": [
    "y_pred_lr = lr.predict_proba(X_test)[:, 1]"
   ]
  },
  {
   "cell_type": "code",
   "execution_count": 17,
   "metadata": {
    "collapsed": false
   },
   "outputs": [
    {
     "data": {
      "text/plain": [
       "0.62474036464343408"
      ]
     },
     "execution_count": 17,
     "metadata": {},
     "output_type": "execute_result"
    }
   ],
   "source": [
    "accuracy_score(y_test,y_pred_lr.round())"
   ]
  }
 ],
 "metadata": {
  "kernelspec": {
   "display_name": "Python 3",
   "language": "python",
   "name": "python3"
  },
  "language_info": {
   "codemirror_mode": {
    "name": "ipython",
    "version": 3
   },
   "file_extension": ".py",
   "mimetype": "text/x-python",
   "name": "python",
   "nbconvert_exporter": "python",
   "pygments_lexer": "ipython3",
   "version": "3.5.3"
  }
 },
 "nbformat": 4,
 "nbformat_minor": 2
}
