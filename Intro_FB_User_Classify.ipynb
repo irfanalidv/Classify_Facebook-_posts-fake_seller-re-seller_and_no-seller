{
 "cells": [
  {
   "cell_type": "code",
   "execution_count": 2,
   "metadata": {
    "collapsed": true
   },
   "outputs": [],
   "source": [
    "#Reading data\n",
    "import pandas as pd\n",
    "from collections import Counter"
   ]
  },
  {
   "cell_type": "code",
   "execution_count": 3,
   "metadata": {
    "collapsed": false
   },
   "outputs": [],
   "source": [
    "Fb_Data=pd.read_csv(\"FB_User_Classification.csv\", delimiter=\"\\t\")"
   ]
  },
  {
   "cell_type": "code",
   "execution_count": 119,
   "metadata": {
    "collapsed": false,
    "scrolled": false
   },
   "outputs": [
    {
     "data": {
      "text/html": [
       "<div>\n",
       "<table border=\"1\" class=\"dataframe\">\n",
       "  <thead>\n",
       "    <tr style=\"text-align: right;\">\n",
       "      <th></th>\n",
       "      <th>description</th>\n",
       "      <th>found_keywords</th>\n",
       "      <th>found_keywords_occurrences</th>\n",
       "      <th>nb_like</th>\n",
       "      <th>nb_share</th>\n",
       "      <th>owner_type</th>\n",
       "      <th>pictures_url</th>\n",
       "      <th>picture_labels</th>\n",
       "      <th>INDEX New</th>\n",
       "      <th>profile_picture</th>\n",
       "      <th>published_at</th>\n",
       "    </tr>\n",
       "  </thead>\n",
       "  <tbody>\n",
       "    <tr>\n",
       "      <th>0</th>\n",
       "      <td>An Alladin's cave of beautiful designer brands...</td>\n",
       "      <td>NaN</td>\n",
       "      <td>0</td>\n",
       "      <td>0</td>\n",
       "      <td>0</td>\n",
       "      <td>user</td>\n",
       "      <td>NaN</td>\n",
       "      <td>NaN</td>\n",
       "      <td>No Seller</td>\n",
       "      <td>https://scontent.xx.fbcdn.net/v/t1.0-1/p50x50/...</td>\n",
       "      <td>02/23/16 04:48 AM</td>\n",
       "    </tr>\n",
       "    <tr>\n",
       "      <th>1</th>\n",
       "      <td>Everyone - let me take a minute to clarify som...</td>\n",
       "      <td>NaN</td>\n",
       "      <td>0</td>\n",
       "      <td>29</td>\n",
       "      <td>0</td>\n",
       "      <td>user</td>\n",
       "      <td>https://scontent.xx.fbcdn.net/hphotos-xap1/v/t...</td>\n",
       "      <td>dog</td>\n",
       "      <td>No Seller</td>\n",
       "      <td>https://scontent.xx.fbcdn.net/hprofile-xlt1/v/...</td>\n",
       "      <td>04/02/2016</td>\n",
       "    </tr>\n",
       "    <tr>\n",
       "      <th>2</th>\n",
       "      <td>CHANEL QUILTED BACKPACK SMALL 23X26CM MQH WITH...</td>\n",
       "      <td>NaN</td>\n",
       "      <td>0</td>\n",
       "      <td>0</td>\n",
       "      <td>0</td>\n",
       "      <td>user</td>\n",
       "      <td>https://scontent.xx.fbcdn.net/hphotos-xpa1/v/t...</td>\n",
       "      <td>vehicle</td>\n",
       "      <td>Fake Seller</td>\n",
       "      <td>https://scontent.xx.fbcdn.net/hprofile-xfl1/v/...</td>\n",
       "      <td>03/30/2016</td>\n",
       "    </tr>\n",
       "    <tr>\n",
       "      <th>3</th>\n",
       "      <td>NaN</td>\n",
       "      <td>NaN</td>\n",
       "      <td>0</td>\n",
       "      <td>25</td>\n",
       "      <td>0</td>\n",
       "      <td>user</td>\n",
       "      <td>https://scontent-ord1-1.xx.fbcdn.net/hphotos-x...</td>\n",
       "      <td>handbag, handbag, fashion accessory, hood, clo...</td>\n",
       "      <td>Reseller</td>\n",
       "      <td>https://scontent-ord1-1.xx.fbcdn.net/hprofile-...</td>\n",
       "      <td>09/07/2015</td>\n",
       "    </tr>\n",
       "    <tr>\n",
       "      <th>4</th>\n",
       "      <td>Longchamp Zip Around Wallet PM / Whatsapp 012-...</td>\n",
       "      <td>NaN</td>\n",
       "      <td>0</td>\n",
       "      <td>1</td>\n",
       "      <td>0</td>\n",
       "      <td>user</td>\n",
       "      <td>https://scontent-ord1-1.xx.fbcdn.net/hphotos-x...</td>\n",
       "      <td>electric blue</td>\n",
       "      <td>Reseller</td>\n",
       "      <td>https://scontent-ord1-1.xx.fbcdn.net/hprofile-...</td>\n",
       "      <td>12/05/2015</td>\n",
       "    </tr>\n",
       "  </tbody>\n",
       "</table>\n",
       "</div>"
      ],
      "text/plain": [
       "                                         description found_keywords  \\\n",
       "0  An Alladin's cave of beautiful designer brands...            NaN   \n",
       "1  Everyone - let me take a minute to clarify som...            NaN   \n",
       "2  CHANEL QUILTED BACKPACK SMALL 23X26CM MQH WITH...            NaN   \n",
       "3                                                NaN            NaN   \n",
       "4  Longchamp Zip Around Wallet PM / Whatsapp 012-...            NaN   \n",
       "\n",
       "   found_keywords_occurrences  nb_like  nb_share owner_type  \\\n",
       "0                           0        0         0       user   \n",
       "1                           0       29         0       user   \n",
       "2                           0        0         0       user   \n",
       "3                           0       25         0       user   \n",
       "4                           0        1         0       user   \n",
       "\n",
       "                                        pictures_url  \\\n",
       "0                                                NaN   \n",
       "1  https://scontent.xx.fbcdn.net/hphotos-xap1/v/t...   \n",
       "2  https://scontent.xx.fbcdn.net/hphotos-xpa1/v/t...   \n",
       "3  https://scontent-ord1-1.xx.fbcdn.net/hphotos-x...   \n",
       "4  https://scontent-ord1-1.xx.fbcdn.net/hphotos-x...   \n",
       "\n",
       "                                      picture_labels    INDEX New  \\\n",
       "0                                                NaN    No Seller   \n",
       "1                                                dog    No Seller   \n",
       "2                                            vehicle  Fake Seller   \n",
       "3  handbag, handbag, fashion accessory, hood, clo...     Reseller   \n",
       "4                                      electric blue     Reseller   \n",
       "\n",
       "                                     profile_picture       published_at  \n",
       "0  https://scontent.xx.fbcdn.net/v/t1.0-1/p50x50/...  02/23/16 04:48 AM  \n",
       "1  https://scontent.xx.fbcdn.net/hprofile-xlt1/v/...         04/02/2016  \n",
       "2  https://scontent.xx.fbcdn.net/hprofile-xfl1/v/...         03/30/2016  \n",
       "3  https://scontent-ord1-1.xx.fbcdn.net/hprofile-...         09/07/2015  \n",
       "4  https://scontent-ord1-1.xx.fbcdn.net/hprofile-...         12/05/2015  "
      ]
     },
     "execution_count": 119,
     "metadata": {},
     "output_type": "execute_result"
    }
   ],
   "source": [
    "Fb_Data.head()"
   ]
  },
  {
   "cell_type": "code",
   "execution_count": 113,
   "metadata": {
    "collapsed": false
   },
   "outputs": [
    {
     "data": {
      "text/plain": [
       "[[ca:0.8571394149614213, so:0.14285833943381515]]"
      ]
     },
     "execution_count": 113,
     "metadata": {},
     "output_type": "execute_result"
    }
   ],
   "source": [
    "from langdetect import detect\n",
    "from langdetect import detect_langs\n",
    "lang=[]\n",
    "[detect_langs(Fb_Data.description[2])]\n",
    "        "
   ]
  },
  {
   "cell_type": "code",
   "execution_count": 98,
   "metadata": {
    "collapsed": false
   },
   "outputs": [
    {
     "data": {
      "text/plain": [
       "[[en:0.9999975079246073]]"
      ]
     },
     "execution_count": 98,
     "metadata": {},
     "output_type": "execute_result"
    }
   ],
   "source": [
    "[detect_langs(Fb_Data.description[1])]"
   ]
  },
  {
   "cell_type": "code",
   "execution_count": 96,
   "metadata": {
    "collapsed": false
   },
   "outputs": [
    {
     "data": {
      "text/plain": [
       "[ca:0.7142829075446799, so:0.2857142290507219]"
      ]
     },
     "execution_count": 96,
     "metadata": {},
     "output_type": "execute_result"
    }
   ],
   "source": [
    "detect_langs(Fb_Data.description[2])"
   ]
  },
  {
   "cell_type": "code",
   "execution_count": 115,
   "metadata": {
    "collapsed": false
   },
   "outputs": [
    {
     "data": {
      "text/plain": [
       "[cy:0.9620645795154015]"
      ]
     },
     "execution_count": 115,
     "metadata": {},
     "output_type": "execute_result"
    }
   ],
   "source": [
    "detect_langs(Fb_Data.description[122]) #Indo-European\tWelsh\tCymraeg langauge"
   ]
  },
  {
   "cell_type": "code",
   "execution_count": 116,
   "metadata": {
    "collapsed": false
   },
   "outputs": [
    {
     "data": {
      "text/plain": [
       "'Fake Seller'"
      ]
     },
     "execution_count": 116,
     "metadata": {},
     "output_type": "execute_result"
    }
   ],
   "source": [
    "Fb_Data['INDEX New'][122] #i think language has relation to find the fake people "
   ]
  },
  {
   "cell_type": "code",
   "execution_count": 82,
   "metadata": {
    "collapsed": false
   },
   "outputs": [
    {
     "data": {
      "text/plain": [
       "0    30928\n",
       "1     2078\n",
       "2      803\n",
       "3      498\n",
       "4      271\n",
       "Name: found_keywords_occurrences, dtype: int64"
      ]
     },
     "execution_count": 82,
     "metadata": {},
     "output_type": "execute_result"
    }
   ],
   "source": [
    "Fb_Data['found_keywords_occurrences'].value_counts().head()"
   ]
  },
  {
   "cell_type": "code",
   "execution_count": 28,
   "metadata": {
    "collapsed": false
   },
   "outputs": [
    {
     "data": {
      "text/plain": [
       "Ready stock     498\n",
       "Inspired        262\n",
       "High Quality    198\n",
       "Semi Ori        197\n",
       "Mirror          190\n",
       "Name: found_keywords, dtype: int64"
      ]
     },
     "execution_count": 28,
     "metadata": {},
     "output_type": "execute_result"
    }
   ],
   "source": [
    "Fb_Data['found_keywords'].value_counts().head()"
   ]
  },
  {
   "cell_type": "code",
   "execution_count": 118,
   "metadata": {
    "collapsed": false
   },
   "outputs": [
    {
     "data": {
      "text/plain": [
       "https://external.xx.fbcdn.net/safe_image.php?d=AQAPsM9ZJXdN7sQM&w=158&h=158&url=https%3A%2F%2Fi.ytimg.com%2Fvi%2Fo6PEVrQNk4w%2Fmaxresdefault.jpg&cfs=1&upscale=1&sx=673&sy=0&sw=1080&sh=1080         107\n",
       "https://static.xx.fbcdn.net/rsrc.php/v2/y4/r/-PAXP-deijE.gif                                                                                                                                          99\n",
       "https://scontent.xx.fbcdn.net/v/t1.0-1/p32x32/11888072_10152946904606073_8260380315845846098_n.jpg?oh=623dbc3d49223cd194428fe17fe6ab0e&oe=580D0D63                                                    33\n",
       "https://external.xx.fbcdn.net/safe_image.php?d=AQCe7C44ezcDRVTI&w=158&h=158&url=https%3A%2F%2Fi.ytimg.com%2Fvi%2FmOJTZ8zun4M%2Fmaxresdefault.jpg&cfs=1&upscale=1&sx=454&sy=0&sw=2000&sh=2000          30\n",
       "https://external.xx.fbcdn.net/safe_image.php?d=AQDIe2vN4DjT-K8K&w=476&h=249&url=http%3A%2F%2Fmarieclaire.media.ipcdigital.co.uk%2F11116%2F000093023%2Fedf2%2FChanel-bag-thumb.jpg&cfs=1&upscale=1     27\n",
       "Name: pictures_url, dtype: int64"
      ]
     },
     "execution_count": 118,
     "metadata": {},
     "output_type": "execute_result"
    }
   ],
   "source": [
    "Fb_Data['pictures_url'].value_counts().head()"
   ]
  },
  {
   "cell_type": "code",
   "execution_count": 77,
   "metadata": {
    "collapsed": false
   },
   "outputs": [
    {
     "data": {
      "text/plain": [
       "Counter({'page': 17711, nan: 1380, 'user': 16091})"
      ]
     },
     "execution_count": 77,
     "metadata": {},
     "output_type": "execute_result"
    }
   ],
   "source": [
    "Counter(Fb_Data['owner_type'])"
   ]
  },
  {
   "cell_type": "code",
   "execution_count": 86,
   "metadata": {
    "collapsed": false
   },
   "outputs": [
    {
     "data": {
      "text/plain": [
       "0    19362\n",
       "1     3225\n",
       "2     1799\n",
       "3     1156\n",
       "4      851\n",
       "Name: nb_like, dtype: int64"
      ]
     },
     "execution_count": 86,
     "metadata": {},
     "output_type": "execute_result"
    }
   ],
   "source": [
    "Fb_Data['nb_like'].value_counts().head() #i don't see the relevence like is it important | \n",
    "#actually can what if the fake user or seller is trying to buy the like can matter right"
   ]
  },
  {
   "cell_type": "code",
   "execution_count": 88,
   "metadata": {
    "collapsed": false
   },
   "outputs": [
    {
     "data": {
      "text/plain": [
       "0    29603\n",
       "1     1963\n",
       "2      556\n",
       "3      266\n",
       "4      146\n",
       "Name: nb_share, dtype: int64"
      ]
     },
     "execution_count": 88,
     "metadata": {},
     "output_type": "execute_result"
    }
   ],
   "source": [
    "Fb_Data['nb_share'].value_counts().head()"
   ]
  },
  {
   "cell_type": "code",
   "execution_count": 42,
   "metadata": {
    "collapsed": false
   },
   "outputs": [
    {
     "name": "stdout",
     "output_type": "stream",
     "text": [
      "35182\n"
     ]
    },
    {
     "data": {
      "text/html": [
       "<div>\n",
       "<table border=\"1\" class=\"dataframe\">\n",
       "  <thead>\n",
       "    <tr style=\"text-align: right;\">\n",
       "      <th></th>\n",
       "      <th>INDEX New</th>\n",
       "    </tr>\n",
       "  </thead>\n",
       "  <tbody>\n",
       "    <tr>\n",
       "      <th>No Seller</th>\n",
       "      <td>16425</td>\n",
       "    </tr>\n",
       "    <tr>\n",
       "      <th>Reseller</th>\n",
       "      <td>9583</td>\n",
       "    </tr>\n",
       "    <tr>\n",
       "      <th>Fake Seller</th>\n",
       "      <td>9174</td>\n",
       "    </tr>\n",
       "  </tbody>\n",
       "</table>\n",
       "</div>"
      ],
      "text/plain": [
       "             INDEX New\n",
       "No Seller        16425\n",
       "Reseller          9583\n",
       "Fake Seller       9174"
      ]
     },
     "execution_count": 42,
     "metadata": {},
     "output_type": "execute_result"
    }
   ],
   "source": [
    "Total_User =Fb_Data['INDEX New'].count()\n",
    "Total_Type=pd.DataFrame(Fb_Data['INDEX New'].value_counts())\n",
    "print(Total_User)\n",
    "Total_Type"
   ]
  },
  {
   "cell_type": "code",
   "execution_count": 63,
   "metadata": {
    "collapsed": false
   },
   "outputs": [
    {
     "name": "stdout",
     "output_type": "stream",
     "text": [
      "46.69\n",
      "27.24\n",
      "26.08\n"
     ]
    }
   ],
   "source": [
    "Per_N0_Seller=round(100*(Total_Type['INDEX New'][0]/Total_User ),2)\n",
    "print(Per_N0_Seller)\n",
    "Per_Re_Seller=round(100*(Total_Type['INDEX New'][1]/Total_User ),2)\n",
    "print(Per_Re_Seller)\n",
    "Per_Fake_Seller=round(100*(Total_Type['INDEX New'][2]/Total_User ),2)\n",
    "print(Per_Fake_Seller)"
   ]
  },
  {
   "cell_type": "code",
   "execution_count": null,
   "metadata": {
    "collapsed": false
   },
   "outputs": [],
   "source": []
  }
 ],
 "metadata": {
  "kernelspec": {
   "display_name": "Python 3",
   "language": "python",
   "name": "python3"
  },
  "language_info": {
   "codemirror_mode": {
    "name": "ipython",
    "version": 3
   },
   "file_extension": ".py",
   "mimetype": "text/x-python",
   "name": "python",
   "nbconvert_exporter": "python",
   "pygments_lexer": "ipython3",
   "version": "3.5.3"
  }
 },
 "nbformat": 4,
 "nbformat_minor": 2
}
